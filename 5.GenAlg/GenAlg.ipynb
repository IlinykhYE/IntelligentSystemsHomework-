{
 "cells": [
  {
   "cell_type": "code",
   "execution_count": 17,
   "metadata": {},
   "outputs": [],
   "source": [
    "import json\n",
    "import pyeasyga\n",
    "\n",
    "resultVolume = 0\n",
    "resultWeight = 0\n",
    "items = []\n",
    "\n",
    "with open('4.txt') as dataSource:\n",
    "    maxWeight, maxVolume = [float(i) for i in next(dataSource).split()]\n",
    "    data = []\n",
    "    for line in dataSource:\n",
    "        data.append([float(i) for i in line.split()])\n",
    "\n",
    "def fitness(individual, data):\n",
    "    weight, volume, price = 0, 0, 0\n",
    "    for (selected, item) in zip(individual, data):\n",
    "        if selected:\n",
    "            weight += item[0]\n",
    "            volume += item[1]\n",
    "            price += item[2]\n",
    "    if weight > maxWeight or volume > maxVolume:\n",
    "        price = 0\n",
    "    return price\n",
    "\n",
    "ga = pyeasyga.GeneticAlgorithm(data)\n",
    "ga.population_size = 200\n",
    "ga.fitness_function = fitness\n",
    "ga.run()\n",
    "\n",
    "result = ga.best_individual()\n",
    "\n",
    "for i in range(len(result[1])):\n",
    "    if result[1][i] == 1:\n",
    "        items.append(i+1)\n",
    "\n",
    "for i in range(len(items)):\n",
    "    resultVolume += data[items[i]-1][1]\n",
    "    resultWeight += data[items[i]-1][0]\n",
    "\n",
    "jsonResult = dict(value=result[0], weight=resultWeight, volume=resultVolume, items=items)\n",
    "\n",
    "with open('result_1.json', 'w') as outfile:\n",
    "        json.dump(jsonResult, outfile, indent = 4)"
   ]
  },
  {
   "cell_type": "code",
   "execution_count": null,
   "metadata": {},
   "outputs": [],
   "source": []
  }
 ],
 "metadata": {
  "kernelspec": {
   "display_name": "Python 3",
   "language": "python",
   "name": "python3"
  },
  "language_info": {
   "codemirror_mode": {
    "name": "ipython",
    "version": 3
   },
   "file_extension": ".py",
   "mimetype": "text/x-python",
   "name": "python",
   "nbconvert_exporter": "python",
   "pygments_lexer": "ipython3",
   "version": "3.7.4"
  }
 },
 "nbformat": 4,
 "nbformat_minor": 2
}
