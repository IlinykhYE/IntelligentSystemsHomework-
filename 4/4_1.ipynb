{
 "cells": [
  {
   "cell_type": "markdown",
   "metadata": {},
   "source": [
    "# Квадраты всех четных чисел (используя map и filter)"
   ]
  },
  {
   "cell_type": "code",
   "execution_count": 13,
   "metadata": {},
   "outputs": [
    {
     "name": "stdout",
     "output_type": "stream",
     "text": [
      "квадраты всех четных чисел из массива [1,2,3,4,11,23,56]: [4, 16, 3136]\n"
     ]
    }
   ],
   "source": [
    "input = [1,2,3,4,11,23,56]\n",
    "def f(arr):\n",
    "    return list(map(lambda x: x**2, filter(lambda x: x % 2 == 0, input)))\n",
    "res = f(input)\n",
    "print('квадраты всех четных чисел из массива [1,2,3,4,11,23,56]: ' + str(res))\n"
   ]
  },
  {
   "cell_type": "markdown",
   "metadata": {},
   "source": [
    "# Дана входная строка и массив чисел, необходимо вернуть строку с теми буквами, которые стоят на указанных местах (два варианта, используя и не используя list comprehensions)"
   ]
  },
  {
   "cell_type": "code",
   "execution_count": 105,
   "metadata": {},
   "outputs": [
    {
     "name": "stdout",
     "output_type": "stream",
     "text": [
      "With list comprehensions: аанхднт\n",
      "Without list comprehensions: аанхднт\n"
     ]
    }
   ],
   "source": [
    "input_string = \"дана входная строка и массив чисел\"\n",
    "positions = [1,3,2,6,8,9,14]\n",
    "\n",
    "def withListComprehensions(input_string, position):\n",
    "    return ''.join([input_string[i] for i in positions])\n",
    "def withoutListComprehensions(input_string, position):\n",
    "    result = ''\n",
    "    for index in position:\n",
    "        result+=input_string[index]\n",
    "    return result\n",
    "res1 = withListComprehensions(input_string, positions)\n",
    "res2 = withoutListComprehensions(input_string, positions)\n",
    "print(\"With list comprehensions: \" + res1)\n",
    "print(\"Without list comprehensions: \" + res2)"
   ]
  },
  {
   "cell_type": "markdown",
   "metadata": {},
   "source": [
    "# Дан текст (предложения разделены только точками), в котором буквы могут находиться в разных регистрах. Необходимо вернуть текст, в котором все буквы в нижнем регистре, а первые буквы каждого предложения – в верхнем. Пользоваться можно встроенными функциями строки (кроме capitalize), всеми изученными в этой теме функциями и модулем itertools."
   ]
  },
  {
   "cell_type": "code",
   "execution_count": 33,
   "metadata": {},
   "outputs": [
    {
     "name": "stdout",
     "output_type": "stream",
     "text": [
      "My name is yulia.Пользоваться можно встроенными функциями.Привет\n"
     ]
    }
   ],
   "source": [
    "text = 'My NAMe iS YULiA.польЗОваться мОЖно встроенными ФУНКцИяМИ.пРИВет'\n",
    "convertedStringToArray = text.split('.')\n",
    "arr = [sentence[0].upper()+sentence[1:].lower() for sentence in convertedStringToArray]\n",
    "res = '.'.join(arr)\n",
    "print(res)"
   ]
  },
  {
   "cell_type": "markdown",
   "metadata": {},
   "source": [
    "# functools.reduce"
   ]
  },
  {
   "cell_type": "code",
   "execution_count": 22,
   "metadata": {},
   "outputs": [
    {
     "data": {
      "text/plain": [
       "6"
      ]
     },
     "execution_count": 22,
     "metadata": {},
     "output_type": "execute_result"
    }
   ],
   "source": [
    "def reduce(function, iterable, initializer = None):\n",
    "    iterator = iter(iterable)\n",
    "    if initializer is None:\n",
    "        value = next(iterator)\n",
    "    else:\n",
    "        value = initializer\n",
    "    for element in iterator:\n",
    "        value = function(value, element)\n",
    "    return value\n",
    "\n",
    "reduce(lambda x, y: x+y, [1, 2, 3])"
   ]
  },
  {
   "cell_type": "markdown",
   "metadata": {},
   "source": [
    "# Cоздайте функцию pipeline_each, в которую вы будете подавать итерируемый объект и список функций, которые последовательно надо к нему применить. Ответ – объект после применения функций в указанном порядке."
   ]
  },
  {
   "cell_type": "code",
   "execution_count": 28,
   "metadata": {},
   "outputs": [
    {
     "data": {
      "text/plain": [
       "[4, 6, 8]"
      ]
     },
     "execution_count": 28,
     "metadata": {},
     "output_type": "execute_result"
    }
   ],
   "source": [
    "def pipeline_each(values, functions):\n",
    "    for f in functions:\n",
    "        for i, j in enumerate(values):\n",
    "            values[i] = f(j)\n",
    "    return values\n",
    "\n",
    "values = [1, 2, 3]\n",
    "\n",
    "functions = [\n",
    "    lambda x: x*2,\n",
    "    lambda x: x+2\n",
    "]\n",
    "        \n",
    "pipeline_each(values, functions)"
   ]
  },
  {
   "cell_type": "markdown",
   "metadata": {},
   "source": [
    "# Написать генератор, возвращающий по очереди все слова, входящие в предложение."
   ]
  },
  {
   "cell_type": "code",
   "execution_count": 44,
   "metadata": {},
   "outputs": [
    {
     "name": "stdout",
     "output_type": "stream",
     "text": [
      "Написать\n",
      "генератор\n",
      "возвращающий\n",
      "по\n",
      "очереди\n",
      "все\n",
      "слова\n",
      "входящие\n",
      "в\n",
      "предложение\n"
     ]
    }
   ],
   "source": [
    "import re\n",
    "def generator(sentence):\n",
    "    sentence = re.sub(r\"[#%!@.,!?*]\", \"\", sentence)\n",
    "    sentence = sentence.split(' ')\n",
    "    for word in sentence:\n",
    "        yield word\n",
    "    \n",
    "sentence = 'Написать генератор, возвращающий по очереди все слова, входящие в предложение.'\n",
    "for word in generator(sentence):\n",
    "    print(word)"
   ]
  },
  {
   "cell_type": "markdown",
   "metadata": {},
   "source": [
    "# Написать генератор псевдо случайных чисел\n",
    "# ◦ Генератор внутри задается какой-нибудь формулой, которая выдает «случайный» результат\n",
    "# ◦ На вход генератору приходит seed – начальное значение, при одинаковых начальных значениях два генератора будут выдавать одинаковые следующие значения"
   ]
  },
  {
   "cell_type": "code",
   "execution_count": 63,
   "metadata": {},
   "outputs": [
    {
     "name": "stdout",
     "output_type": "stream",
     "text": [
      "Результат без установленного seed:\n",
      "9556\n",
      "41111\n",
      "22834\n",
      "38885\n",
      "17680\n",
      "29603\n",
      "7486\n",
      "16721\n",
      "6940\n",
      "41279\n",
      "Результат с установленным seed:\n",
      "853\n",
      "20384\n",
      "24067\n",
      "6926\n",
      "35329\n",
      "3260\n",
      "16927\n",
      "8954\n",
      "41869\n",
      "2840\n"
     ]
    }
   ],
   "source": [
    "def gen (seed = None):\n",
    "    if (seed == None):\n",
    "        seed = 222+(536273%334)\n",
    "    while True:\n",
    "        seed = (425 * seed + 3) % 42768;\n",
    "        yield seed\n",
    "\n",
    "\n",
    "print('Результат без установленного seed:')\n",
    "res_1 = gen()\n",
    "for i in range(10):\n",
    "    print(next(res_1))\n",
    "\n",
    "print('Результат с установленным seed:')\n",
    "res_2 = gen(2)\n",
    "for i in range(10):\n",
    "    print(next(res_2))  "
   ]
  },
  {
   "cell_type": "markdown",
   "metadata": {},
   "source": [
    "# Написать корутину, которая реализует бесконечную арифметическую прогрессию с возможностью перезапуска с любого места (3, 4, 5, 6, send(30), 31, 32, 33, …)"
   ]
  },
  {
   "cell_type": "code",
   "execution_count": 68,
   "metadata": {},
   "outputs": [
    {
     "name": "stdout",
     "output_type": "stream",
     "text": [
      "3\n",
      "4\n",
      "5\n",
      "6\n",
      "31\n",
      "32\n",
      "33\n"
     ]
    }
   ],
   "source": [
    "def arithmeticProgression():\n",
    "    number = 3\n",
    "    while True:\n",
    "        input = yield number\n",
    "        if input is not None:\n",
    "            number = input\n",
    "        number += 1\n",
    "\n",
    "number = arithmeticProgression()\n",
    "print(next(number))\n",
    "print(next(number))\n",
    "print(next(number))\n",
    "print(next(number))\n",
    "print(number.send(30))\n",
    "print(next(number))\n",
    "print(next(number))"
   ]
  }
 ],
 "metadata": {
  "kernelspec": {
   "display_name": "Python 3",
   "language": "python",
   "name": "python3"
  },
  "language_info": {
   "codemirror_mode": {
    "name": "ipython",
    "version": 3
   },
   "file_extension": ".py",
   "mimetype": "text/x-python",
   "name": "python",
   "nbconvert_exporter": "python",
   "pygments_lexer": "ipython3",
   "version": "3.7.4"
  }
 },
 "nbformat": 4,
 "nbformat_minor": 2
}
